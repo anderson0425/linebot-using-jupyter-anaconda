{
 "cells": [
  {
   "cell_type": "markdown",
   "id": "c5f219c1",
   "metadata": {},
   "source": [
    "## 先把jupyter notebook路徑指向有安裝linebot module的anaconda虛擬環境(避免虛擬環境有安裝但notebook沒能成功引用)"
   ]
  },
  {
   "cell_type": "markdown",
   "id": "fa95759a",
   "metadata": {},
   "source": [
    "查看jupytor notebook可以使用的python kernel(Available kernels)"
   ]
  },
  {
   "cell_type": "code",
   "execution_count": null,
   "id": "b1496a66",
   "metadata": {
    "scrolled": true
   },
   "outputs": [],
   "source": [
    "!jupyter kernelspec list"
   ]
  },
  {
   "cell_type": "markdown",
   "id": "215fd8be",
   "metadata": {},
   "source": [
    "如果輸出\n",
    "```\n",
    "Available kernels:\n",
    " python3 C:\\Users\\XXXXXX\\AppData\\Roaming\\jupyter\\kernels\\python3\n",
    "```\n",
    "表示Python核心檔案是吃到Windows本地的Python，而不是我們創建的虛擬環境[my_env]的核心。\n",
    "\n",
    "如果輸出\n",
    "```\n",
    "Available kernels:\n",
    "  [my_env]    C:\\Users\\user\\AppData\\Roaming\\jupyter\\kernels\\my_linebot\n",
    "  python3       C:\\Users\\user\\anaconda3\\envs\\my_linebot\\share\\jupyter\\kernels\\python3\n",
    "```\n",
    "表示Python核心檔案是吃到我們創建的虛擬環境[my_env]的核心。"
   ]
  },
  {
   "cell_type": "markdown",
   "id": "c7493528",
   "metadata": {},
   "source": [
    "## 接著，notebook應該可以正常引用linebot-sdk module，開始做linebot服務"
   ]
  },
  {
   "cell_type": "code",
   "execution_count": null,
   "id": "e9f4f68a",
   "metadata": {},
   "outputs": [
    {
     "name": "stdout",
     "output_type": "stream",
     "text": [
      " * Serving Flask app '__main__'\n",
      " * Debug mode: on\n"
     ]
    },
    {
     "name": "stderr",
     "output_type": "stream",
     "text": [
      "WARNING: This is a development server. Do not use it in a production deployment. Use a production WSGI server instead.\n",
      " * Running on http://127.0.0.1:3000\n",
      "Press CTRL+C to quit\n",
      "[2022-09-25 17:07:00,366] INFO in 3732834878: Request body: {\"destination\":\"Uad1bbf314b1fe3e0be34e2d72ecb1585\",\"events\":[{\"type\":\"message\",\"message\":{\"type\":\"text\",\"id\":\"16843120736300\",\"text\":\"3333\"},\"webhookEventId\":\"01GDSYCPGEQ4TBBAW2C5XQA0QG\",\"deliveryContext\":{\"isRedelivery\":false},\"timestamp\":1664096819569,\"source\":{\"type\":\"user\",\"userId\":\"U1107a8f6069bdb07eeb9c0b1f107f69b\"},\"replyToken\":\"1665113a92924516a9a86cbe178ca01a\",\"mode\":\"active\"}]}\n"
     ]
    },
    {
     "name": "stdout",
     "output_type": "stream",
     "text": [
      "{\"destination\":\"Uad1bbf314b1fe3e0be34e2d72ecb1585\",\"events\":[{\"type\":\"message\",\"message\":{\"type\":\"text\",\"id\":\"16843120736300\",\"text\":\"3333\"},\"webhookEventId\":\"01GDSYCPGEQ4TBBAW2C5XQA0QG\",\"deliveryContext\":{\"isRedelivery\":false},\"timestamp\":1664096819569,\"source\":{\"type\":\"user\",\"userId\":\"U1107a8f6069bdb07eeb9c0b1f107f69b\"},\"replyToken\":\"1665113a92924516a9a86cbe178ca01a\",\"mode\":\"active\"}]} Qo11KayMvhjCj6KhhAIVwQxAOB1jWvJxCAQrDQ9qPkw=\n"
     ]
    },
    {
     "name": "stderr",
     "output_type": "stream",
     "text": [
      "127.0.0.1 - - [25/Sep/2022 17:07:00] \"POST /callback HTTP/1.1\" 200 -\n"
     ]
    }
   ],
   "source": [
    "from __future__ import unicode_literals\n",
    "import os\n",
    "from flask import Flask, request, abort\n",
    "from linebot import LineBotApi, WebhookHandler\n",
    "from linebot.exceptions import InvalidSignatureError\n",
    "from linebot.models import MessageEvent, TextMessage, TextSendMessage\n",
    "\n",
    "import configparser\n",
    "\n",
    "import random\n",
    "\n",
    "app = Flask(__name__)\n",
    "\n",
    "# LINE 聊天機器人的基本資料\n",
    "config = configparser.ConfigParser()\n",
    "## config.read('config.ini')\n",
    "config.read(\"D:/2022下半年子計畫/優先度高/linebot--jupyter/config.ini\",   encoding='utf-8')\n",
    "\n",
    "line_bot_api = LineBotApi(config.get('line-bot', 'channel_access_token'))\n",
    "handler = WebhookHandler(config.get('line-bot', 'channel_secret'))\n",
    "\n",
    "\n",
    "# 接收 LINE 的資訊\n",
    "@app.route(\"/callback\", methods=['POST'])\n",
    "def callback():\n",
    "    signature = request.headers['X-Line-Signature']\n",
    "\n",
    "    body = request.get_data(as_text=True)\n",
    "    app.logger.info(\"Request body: \" + body)\n",
    "    \n",
    "    try:\n",
    "        print(body, signature)\n",
    "        handler.handle(body, signature)\n",
    "        \n",
    "    except InvalidSignatureError:\n",
    "        abort(400)\n",
    "\n",
    "    return 'OK'\n",
    "\n",
    "# 學你說話\n",
    "@handler.add(MessageEvent, message=TextMessage)\n",
    "def pretty_echo(event):\n",
    "    \n",
    "    if event.source.user_id != \"Udeadbeefdeadbeefdeadbeefdeadbeef\":\n",
    "        \n",
    "        # Phoebe 愛唱歌\n",
    "        pretty_note = '♫♪♬'\n",
    "        pretty_text = ''\n",
    "        \n",
    "        for i in event.message.text:\n",
    "        \n",
    "            pretty_text += i\n",
    "            pretty_text += random.choice(pretty_note)\n",
    "    \n",
    "        line_bot_api.reply_message(\n",
    "            event.reply_token,\n",
    "            TextSendMessage(text=pretty_text)\n",
    "        )\n",
    "\n",
    "if __name__ == \"__main__\":\n",
    "    app.run(debug=True, port=3000, use_reloader=False)"
   ]
  }
 ],
 "metadata": {
  "kernelspec": {
   "display_name": "my_linebot",
   "language": "python",
   "name": "my_linebot"
  },
  "language_info": {
   "codemirror_mode": {
    "name": "ipython",
    "version": 3
   },
   "file_extension": ".py",
   "mimetype": "text/x-python",
   "name": "python",
   "nbconvert_exporter": "python",
   "pygments_lexer": "ipython3",
   "version": "3.8.13"
  }
 },
 "nbformat": 4,
 "nbformat_minor": 5
}
